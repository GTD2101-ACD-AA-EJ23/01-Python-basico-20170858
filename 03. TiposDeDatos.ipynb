{
  "cells": [
    {
      "cell_type": "markdown",
      "metadata": {
        "id": "view-in-github",
        "colab_type": "text"
      },
      "source": [
        "<a href=\"https://colab.research.google.com/github/GTD2101-ACD-AA-EJ23/01-Python-basico-20170858/blob/main/03.%20TiposDeDatos.ipynb\" target=\"_parent\"><img src=\"https://colab.research.google.com/assets/colab-badge.svg\" alt=\"Open In Colab\"/></a>"
      ]
    },
    {
      "cell_type": "markdown",
      "metadata": {
        "id": "kh9newlNWb0K"
      },
      "source": [
        "# Tipos de Datos\n",
        "\n",
        "En este JNB se revisará el tema de Tipos de Datos"
      ]
    },
    {
      "cell_type": "code",
      "execution_count": null,
      "metadata": {
        "id": "O8NoTzxjs2wK",
        "outputId": "fa4bc249-a4fa-48a6-9dc6-7733646ed223"
      },
      "outputs": [
        {
          "name": "stdout",
          "output_type": "stream",
          "text": [
            "Hello World!\n"
          ]
        }
      ],
      "source": [
        "print(\"Hello World!\")"
      ]
    },
    {
      "cell_type": "markdown",
      "source": [
        "#Este tipo de datos es el tradicional de valores que son enteros\n"
      ],
      "metadata": {
        "id": "BxYco2zlWdHq"
      }
    },
    {
      "cell_type": "code",
      "source": [
        "x = 14\n",
        "print(x)\n",
        "print(type(x))"
      ],
      "metadata": {
        "id": "tYj7fjxbWh5I",
        "outputId": "af3be78e-1522-4099-96f3-4f86d9572ffe",
        "colab": {
          "base_uri": "https://localhost:8080/"
        }
      },
      "execution_count": 1,
      "outputs": [
        {
          "output_type": "stream",
          "name": "stdout",
          "text": [
            "14\n",
            "<class 'int'>\n"
          ]
        }
      ]
    },
    {
      "cell_type": "code",
      "source": [
        "nearly_pi = 3.141592653589793238462643383279502884197169399375105820974944\n",
        "print(nearly_pi)\n",
        "print(type(nearly_pi))"
      ],
      "metadata": {
        "id": "lpsnHKnMWpgV",
        "outputId": "209c42ea-75a5-4e88-f906-3d874c799a26",
        "colab": {
          "base_uri": "https://localhost:8080/"
        }
      },
      "execution_count": 2,
      "outputs": [
        {
          "output_type": "stream",
          "name": "stdout",
          "text": [
            "3.141592653589793\n",
            "<class 'float'>\n"
          ]
        }
      ]
    },
    {
      "cell_type": "markdown",
      "source": [
        "La presencia del punto decimal en cualquier numero se convierte en un tipo flotante\n",
        "\n"
      ],
      "metadata": {
        "id": "18X2OKVPW7PE"
      }
    },
    {
      "cell_type": "code",
      "source": [
        "y_float = 1.\n",
        "print(y_float)\n",
        "print(type(y_float))"
      ],
      "metadata": {
        "id": "unJr-SJoWs30",
        "outputId": "151da187-3a3d-4a24-f163-f45dfb1239ec",
        "colab": {
          "base_uri": "https://localhost:8080/"
        }
      },
      "execution_count": 3,
      "outputs": [
        {
          "output_type": "stream",
          "name": "stdout",
          "text": [
            "1.0\n",
            "<class 'float'>\n"
          ]
        }
      ]
    },
    {
      "cell_type": "markdown",
      "source": [
        "#Booleanos\n",
        "este tipo de datos se utiliza para manejar falso y verdadero"
      ],
      "metadata": {
        "id": "409Fy8fQXgT-"
      }
    },
    {
      "cell_type": "code",
      "source": [
        "z_one = True\n",
        "print(z_one)\n",
        "print(type(z_one))"
      ],
      "metadata": {
        "id": "cXN29JDAX00v",
        "outputId": "e05b7fc3-01e2-46f1-e403-8bf6bb94fc78",
        "colab": {
          "base_uri": "https://localhost:8080/"
        }
      },
      "execution_count": 4,
      "outputs": [
        {
          "output_type": "stream",
          "name": "stdout",
          "text": [
            "True\n",
            "<class 'bool'>\n"
          ]
        }
      ]
    },
    {
      "cell_type": "markdown",
      "source": [
        "las expresiones de tipo relacional se evaluan a valores booleanos"
      ],
      "metadata": {
        "id": "MYojrwQWX4TN"
      }
    },
    {
      "cell_type": "code",
      "source": [
        "z_three = (1 < 2)\n",
        "print(z_three)\n",
        "print(type(z_three))"
      ],
      "metadata": {
        "id": "0kDj1fwGYA_p",
        "outputId": "796e87c0-34e8-46d8-a1a3-a27587973179",
        "colab": {
          "base_uri": "https://localhost:8080/"
        }
      },
      "execution_count": 5,
      "outputs": [
        {
          "output_type": "stream",
          "name": "stdout",
          "text": [
            "True\n",
            "<class 'bool'>\n"
          ]
        }
      ]
    },
    {
      "cell_type": "markdown",
      "source": [
        "se pueden utilizar operadores logicos"
      ],
      "metadata": {
        "id": "cILszJSCYghT"
      }
    },
    {
      "cell_type": "code",
      "source": [
        "z_four = (5 < 3)\n",
        "print(z_four)\n",
        "print(type(z_four))"
      ],
      "metadata": {
        "id": "hRPzWwvXYmwe",
        "outputId": "425e50f5-cbb6-4110-a0c0-c5178a736fd7",
        "colab": {
          "base_uri": "https://localhost:8080/"
        }
      },
      "execution_count": 6,
      "outputs": [
        {
          "output_type": "stream",
          "name": "stdout",
          "text": [
            "False\n",
            "<class 'bool'>\n"
          ]
        }
      ]
    },
    {
      "cell_type": "code",
      "source": [
        "z_five = not z_four\n",
        "print(z_five)\n",
        "print(type(z_five))"
      ],
      "metadata": {
        "id": "KlKvlmxZYz2l",
        "outputId": "ac04c007-a3a5-4cad-f62d-580cc5be2c1f",
        "colab": {
          "base_uri": "https://localhost:8080/"
        }
      },
      "execution_count": 7,
      "outputs": [
        {
          "output_type": "stream",
          "name": "stdout",
          "text": [
            "True\n",
            "<class 'bool'>\n"
          ]
        }
      ]
    },
    {
      "cell_type": "markdown",
      "source": [
        "Representa cualquier secuencia de caracteres. Se puede manejar en 1 omas lineas y se pueden representar con comillas simples, dobles y triples."
      ],
      "metadata": {
        "id": "eW2M59elY7id"
      }
    },
    {
      "cell_type": "code",
      "source": [
        "w = \"Hello, Python!\"\n",
        "print(w)\n",
        "print(type(w))"
      ],
      "metadata": {
        "id": "Vtv60Gk_ZM_z",
        "outputId": "04eb97e1-2106-40f0-b869-e3a0191fc5e8",
        "colab": {
          "base_uri": "https://localhost:8080/"
        }
      },
      "execution_count": 8,
      "outputs": [
        {
          "output_type": "stream",
          "name": "stdout",
          "text": [
            "Hello, Python!\n",
            "<class 'str'>\n"
          ]
        }
      ]
    },
    {
      "cell_type": "markdown",
      "source": [
        "Consultando la longitud de un string con la funcion length"
      ],
      "metadata": {
        "id": "pJyv5CAVZpnM"
      }
    },
    {
      "cell_type": "code",
      "source": [
        "print(len(w))"
      ],
      "metadata": {
        "id": "Zv6_c1e7Zoco",
        "outputId": "0a1b23ba-c69d-491b-eeb6-019e8b957acc",
        "colab": {
          "base_uri": "https://localhost:8080/"
        }
      },
      "execution_count": 9,
      "outputs": [
        {
          "output_type": "stream",
          "name": "stdout",
          "text": [
            "14\n"
          ]
        }
      ]
    },
    {
      "cell_type": "markdown",
      "source": [
        "Un string especial es el que tiene longitud 0"
      ],
      "metadata": {
        "id": "G5uak2NraHif"
      }
    },
    {
      "cell_type": "code",
      "source": [
        "shortest_string = \"\"\n",
        "print(type(shortest_string))\n",
        "print(len(shortest_string))"
      ],
      "metadata": {
        "id": "SG6yN9qnaL7C",
        "outputId": "e27e5742-66cd-4fc6-a20a-d383fe09a718",
        "colab": {
          "base_uri": "https://localhost:8080/"
        }
      },
      "execution_count": 12,
      "outputs": [
        {
          "output_type": "stream",
          "name": "stdout",
          "text": [
            "<class 'str'>\n",
            "0\n"
          ]
        }
      ]
    },
    {
      "cell_type": "markdown",
      "source": [
        "se pueden manejar string de numeros, pero hay que convertirlos para darles el tratamiento como tales:"
      ],
      "metadata": {
        "id": "wUS-zszxae5P"
      }
    },
    {
      "cell_type": "code",
      "source": [
        "my_number = \"1.12321\"\n",
        "print(my_number)\n",
        "print(type(my_number))"
      ],
      "metadata": {
        "id": "L6NSVDsuaqO1",
        "outputId": "29e4ebcb-4411-41bb-8f47-f7179b98973d",
        "colab": {
          "base_uri": "https://localhost:8080/"
        }
      },
      "execution_count": 13,
      "outputs": [
        {
          "output_type": "stream",
          "name": "stdout",
          "text": [
            "1.12321\n",
            "<class 'str'>\n"
          ]
        }
      ]
    },
    {
      "cell_type": "code",
      "source": [
        "also_my_number = float(my_number)\n",
        "print(also_my_number)\n",
        "print(type(also_my_number))"
      ],
      "metadata": {
        "id": "Qg3O3KSva2bs",
        "outputId": "62daf02a-584b-41f3-8360-489fab03ccf3",
        "colab": {
          "base_uri": "https://localhost:8080/"
        }
      },
      "execution_count": 14,
      "outputs": [
        {
          "output_type": "stream",
          "name": "stdout",
          "text": [
            "1.12321\n",
            "<class 'float'>\n"
          ]
        }
      ]
    },
    {
      "cell_type": "markdown",
      "source": [
        "Es posible utilizar eloperador \"*\" sobrecargado para los strings en Python:"
      ],
      "metadata": {
        "id": "-AxPY2iscbnJ"
      }
    },
    {
      "cell_type": "code",
      "source": [
        "newest_string = \"abc\" * 3\n",
        "print(newest_string)\n",
        "print(type(newest_string))"
      ],
      "metadata": {
        "id": "22z4-f1Rcc6M"
      },
      "execution_count": null,
      "outputs": []
    }
  ],
  "metadata": {
    "colab": {
      "provenance": [],
      "include_colab_link": true
    },
    "kernelspec": {
      "display_name": "Python 3.10.7 64-bit",
      "language": "python",
      "name": "python3"
    },
    "language_info": {
      "codemirror_mode": {
        "name": "ipython",
        "version": 3
      },
      "file_extension": ".py",
      "mimetype": "text/x-python",
      "name": "python",
      "nbconvert_exporter": "python",
      "pygments_lexer": "ipython3",
      "version": "3.10.7"
    },
    "orig_nbformat": 4,
    "vscode": {
      "interpreter": {
        "hash": "eb4a0ac80907d7f44e1a5e88d3d3381b33e3dbedd3a24d113e876f30a0c46bee"
      }
    }
  },
  "nbformat": 4,
  "nbformat_minor": 0
}